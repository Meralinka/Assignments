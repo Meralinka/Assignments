{
  "nbformat": 4,
  "nbformat_minor": 0,
  "metadata": {
    "colab": {
      "name": "fibonacci.ipynb",
      "provenance": [],
      "authorship_tag": "ABX9TyMvwhdn1vAG3HL1rpC9BTti",
      "include_colab_link": true
    },
    "kernelspec": {
      "name": "python3",
      "display_name": "Python 3"
    },
    "language_info": {
      "name": "python"
    }
  },
  "cells": [
    {
      "cell_type": "markdown",
      "metadata": {
        "id": "view-in-github",
        "colab_type": "text"
      },
      "source": [
        "<a href=\"https://colab.research.google.com/github/Meralinka/Assignments/blob/main/fibonacci.ipynb\" target=\"_parent\"><img src=\"https://colab.research.google.com/assets/colab-badge.svg\" alt=\"Open In Colab\"/></a>"
      ]
    },
    {
      "cell_type": "code",
      "metadata": {
        "colab": {
          "base_uri": "https://localhost:8080/"
        },
        "id": "xqMi0VvxQ1iE",
        "outputId": "0728a994-17fb-4f10-cf1f-d039479abdce"
      },
      "source": [
        "liste =[]\n",
        "sayı1 = 0\n",
        "sayı2 = 1\n",
        "print(sayı1)\n",
        "print(sayı2)\n",
        "for i in range(55):\n",
        "  sayı3= sayı1 +sayı2\n",
        "  print(sayı3)\n",
        "  sayı1=sayı2\n",
        "  sayı2=sayı3\n",
        "    "
      ],
      "execution_count": 20,
      "outputs": [
        {
          "output_type": "stream",
          "name": "stdout",
          "text": [
            "0\n",
            "1\n",
            "1\n",
            "2\n",
            "3\n",
            "5\n",
            "8\n",
            "13\n",
            "21\n",
            "34\n",
            "55\n",
            "89\n",
            "144\n",
            "233\n",
            "377\n",
            "610\n",
            "987\n",
            "1597\n",
            "2584\n",
            "4181\n",
            "6765\n",
            "10946\n",
            "17711\n",
            "28657\n",
            "46368\n",
            "75025\n",
            "121393\n",
            "196418\n",
            "317811\n",
            "514229\n",
            "832040\n",
            "1346269\n",
            "2178309\n",
            "3524578\n",
            "5702887\n",
            "9227465\n",
            "14930352\n",
            "24157817\n",
            "39088169\n",
            "63245986\n",
            "102334155\n",
            "165580141\n",
            "267914296\n",
            "433494437\n",
            "701408733\n",
            "1134903170\n",
            "1836311903\n",
            "2971215073\n",
            "4807526976\n",
            "7778742049\n",
            "12586269025\n",
            "20365011074\n",
            "32951280099\n",
            "53316291173\n",
            "86267571272\n",
            "139583862445\n",
            "225851433717\n"
          ]
        }
      ]
    },
    {
      "cell_type": "code",
      "metadata": {
        "id": "x99EEhTQTWdp"
      },
      "source": [
        "\n"
      ],
      "execution_count": null,
      "outputs": []
    }
  ]
}