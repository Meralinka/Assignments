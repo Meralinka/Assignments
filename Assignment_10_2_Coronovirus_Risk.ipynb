{
  "nbformat": 4,
  "nbformat_minor": 0,
  "metadata": {
    "colab": {
      "name": "Assignment-10/2-Coronovirus-Risk.ipynb",
      "provenance": [],
      "authorship_tag": "ABX9TyNs9PEjgXPU6Znkyi6Dh/jd",
      "include_colab_link": true
    },
    "kernelspec": {
      "name": "python3",
      "display_name": "Python 3"
    },
    "language_info": {
      "name": "python"
    }
  },
  "cells": [
    {
      "cell_type": "markdown",
      "metadata": {
        "id": "view-in-github",
        "colab_type": "text"
      },
      "source": [
        "<a href=\"https://colab.research.google.com/github/Meralinka/Assignments/blob/main/Assignment_10_2_Coronovirus_Risk.ipynb\" target=\"_parent\"><img src=\"https://colab.research.google.com/assets/colab-badge.svg\" alt=\"Open In Colab\"/></a>"
      ]
    },
    {
      "cell_type": "code",
      "metadata": {
        "colab": {
          "base_uri": "https://localhost:8080/"
        },
        "id": "YufK1wJSfbmC",
        "outputId": "fc87dfee-8d92-43c8-9a82-a1b7b0262504"
      },
      "source": [
        "age= input(\"Are you a cigarette addict older than 75 years old?: \")\n",
        "chronic= input(\"Do you have a severe chronic disease: \")\n",
        "immune= input(\"Is your immune system too weak :\")\n",
        "\n",
        "if age.title()==\"Yes\" or chronic.title()==\"Yes\" or immune.title() == \"Yes\" :\n",
        "  print(\"You are in risky group\")\n",
        "else:\n",
        "  print(\"You are not in risky group\")\n",
        "\n"
      ],
      "execution_count": 13,
      "outputs": [
        {
          "output_type": "stream",
          "name": "stdout",
          "text": [
            "Are you a cigarette addict older than 75 years old?: no\n",
            "Do you have a severe chronic disease: no\n",
            "Is your immune system too weak :no\n",
            "You are not in risky group\n"
          ]
        }
      ]
    },
    {
      "cell_type": "code",
      "metadata": {
        "id": "-sFZjl8Anr96"
      },
      "source": [
        ""
      ],
      "execution_count": null,
      "outputs": []
    }
  ]
}