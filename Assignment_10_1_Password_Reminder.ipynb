{
  "nbformat": 4,
  "nbformat_minor": 0,
  "metadata": {
    "colab": {
      "name": "Assignment-10/1-Password-Reminder.ipynb",
      "provenance": [],
      "authorship_tag": "ABX9TyNRs5IxymmLM2tlRJ5ZnogO",
      "include_colab_link": true
    },
    "kernelspec": {
      "name": "python3",
      "display_name": "Python 3"
    },
    "language_info": {
      "name": "python"
    }
  },
  "cells": [
    {
      "cell_type": "markdown",
      "metadata": {
        "id": "view-in-github",
        "colab_type": "text"
      },
      "source": [
        "<a href=\"https://colab.research.google.com/github/Meralinka/Assignments/blob/main/Assignment_10_1_Password_Reminder.ipynb\" target=\"_parent\"><img src=\"https://colab.research.google.com/assets/colab-badge.svg\" alt=\"Open In Colab\"/></a>"
      ]
    },
    {
      "cell_type": "code",
      "metadata": {
        "id": "YufK1wJSfbmC"
      },
      "source": [
        "name=\"Joseph\"\n",
        "name1 = input(\"what is your name? :\")\n",
        "if name1.title() == name:\n",
        "  print(\"Hello, Joseph! The password is : W@12\")\n",
        "else:\n",
        "  print(f\"Hello,{name1}! See you later\")"
      ],
      "execution_count": null,
      "outputs": []
    }
  ]
}