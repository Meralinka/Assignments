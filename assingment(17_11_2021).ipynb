{
  "nbformat": 4,
  "nbformat_minor": 0,
  "metadata": {
    "colab": {
      "name": "assingment(17/11/2021).ipynb",
      "provenance": [],
      "authorship_tag": "ABX9TyOPyzsJwlF6UEcT/ZkTaW2g",
      "include_colab_link": true
    },
    "kernelspec": {
      "name": "python3",
      "display_name": "Python 3"
    },
    "language_info": {
      "name": "python"
    }
  },
  "cells": [
    {
      "cell_type": "markdown",
      "metadata": {
        "id": "view-in-github",
        "colab_type": "text"
      },
      "source": [
        "<a href=\"https://colab.research.google.com/github/Meralinka/Assignments/blob/main/assingment(17_11_2021).ipynb\" target=\"_parent\"><img src=\"https://colab.research.google.com/assets/colab-badge.svg\" alt=\"Open In Colab\"/></a>"
      ]
    },
    {
      "cell_type": "code",
      "metadata": {
        "id": "8BQ8IqZQ-cn8"
      },
      "source": [
        "number = int(input(\"Bir sayı giriniz: \"))\n",
        "listem = []\n",
        "\n",
        "for i in range(2, number+1):\n",
        "  if number % i == 0:\n",
        "    listem.append(i)\n",
        "if len(listem) == 1:\n",
        "  print(f\"{number} bir asal sayıdır\")\n",
        "else:\n",
        "  print(f\"{number} bir asal sayı değildir\")"
      ],
      "execution_count": null,
      "outputs": []
    }
  ]
}